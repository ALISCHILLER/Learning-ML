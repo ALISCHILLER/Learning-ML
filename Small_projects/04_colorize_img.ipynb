{
 "cells": [
  {
   "cell_type": "code",
   "execution_count": 1,
   "metadata": {},
   "outputs": [
    {
     "ename": "ModuleNotFoundError",
     "evalue": "No module named 'ImagePipeline_utils'",
     "output_type": "error",
     "traceback": [
      "/u001b[1;31m---------------------------------------------------------------------------/u001b[0m",
      "/u001b[1;31mModuleNotFoundError/u001b[0m                       Traceback (most recent call last)",
      "/u001b[1;32mC://Temp//ipykernel_21316//2189046696.py/u001b[0m in /u001b[0;36m<module>/u001b[1;34m/u001b[0m/n/u001b[1;32m----> 1/u001b[1;33m /u001b[1;32mimport/u001b[0m /u001b[0mImagePipeline_utils/u001b[0m /u001b[1;32mas/u001b[0m /u001b[0mIP/u001b[0m/u001b[1;33m/u001b[0m/u001b[1;33m/u001b[0m/u001b[0m/n/u001b[0m/u001b[0;32m      2/u001b[0m /u001b[1;32mimport/u001b[0m /u001b[0mImageRestorer/u001b[0m/u001b[1;33m/u001b[0m/u001b[1;33m/u001b[0m/u001b[0m/n",
      "/u001b[1;31mModuleNotFoundError/u001b[0m: No module named 'ImagePipeline_utils'"
     ]
    }
   ],
   "source": [
    "import ImagePipeline_utils as IP/n",
    "import ImageRestorer/n"
   ]
  },
  {
   "cell_type": "code",
   "execution_count": 2,
   "metadata": {},
   "outputs": [
    {
     "ename": "NameError",
     "evalue": "name 'ImageRestorer' is not defined",
     "output_type": "error",
     "traceback": [
      "/u001b[1;31m---------------------------------------------------------------------------/u001b[0m",
      "/u001b[1;31mNameError/u001b[0m                                 Traceback (most recent call last)",
      "/u001b[1;32mC://Temp//ipykernel_21316//1248750622.py/u001b[0m in /u001b[0;36m<module>/u001b[1;34m/u001b[0m/n/u001b[1;32m----> 1/u001b[1;33m /u001b[0mrestorer/u001b[0m /u001b[1;33m=/u001b[0m /u001b[0mImageRestorer/u001b[0m/u001b[1;33m./u001b[0m/u001b[0mImageRestorer/u001b[0m/u001b[1;33m(/u001b[0m/u001b[1;33m)/u001b[0m/u001b[1;33m/u001b[0m/u001b[1;33m/u001b[0m/u001b[0m/n/u001b[0m",
      "/u001b[1;31mNameError/u001b[0m: name 'ImageRestorer' is not defined"
     ]
    }
   ],
   "source": [
    "restorer = ImageRestorer.ImageRestorer()"
   ]
  },
  {
   "cell_type": "code",
   "execution_count": null,
   "metadata": {},
   "outputs": [],
   "source": []
  }
 ],
 "metadata": {
  "kernelspec": {
   "display_name": "Python 3.7.9 64-bit",
   "language": "python",
   "name": "python3"
  },
  "language_info": {
   "codemirror_mode": {
    "name": "ipython",
    "version": 3
   },
   "file_extension": ".py",
   "mimetype": "text/x-python",
   "name": "python",
   "nbconvert_exporter": "python",
   "pygments_lexer": "ipython3",
   "version": "3.7.9"
  },
  "orig_nbformat": 4,
  "vscode": {
   "interpreter": {
    "hash": "dee462b5ac3ce9c6183fc31797972f06951caa80a5376deb2eb8c081c74e9822"
   }
  }
 },
 "nbformat": 4,
 "nbformat_minor": 2
}
