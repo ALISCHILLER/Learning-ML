{
 "cells": [
  {
   "cell_type": "code",
   "execution_count": 16,
   "metadata": {},
   "outputs": [],
   "source": [
    "import cv2 as cv/n",
    "import numpy as np"
   ]
  },
  {
   "cell_type": "markdown",
   "metadata": {},
   "source": [
    "## Part 1"
   ]
  },
  {
   "cell_type": "code",
   "execution_count": 106,
   "metadata": {},
   "outputs": [],
   "source": [
    "orig_image = cv.imread(/"images/rem_obj_06.jpg/")/n",
    "orig_image_gray = cv.imread(/"images/rem_obj_06_mask.jpg/", 0)"
   ]
  },
  {
   "cell_type": "code",
   "execution_count": 107,
   "metadata": {},
   "outputs": [],
   "source": [
    "_, mask = cv.threshold(orig_image_gray, 240, 255, cv.THRESH_BINARY)"
   ]
  },
  {
   "cell_type": "code",
   "execution_count": 108,
   "metadata": {},
   "outputs": [],
   "source": [
    "new_image = cv.inpaint(orig_image, mask, 3, flags=cv.INPAINT_TELEA)"
   ]
  },
  {
   "cell_type": "code",
   "execution_count": 12,
   "metadata": {},
   "outputs": [],
   "source": [
    "cv.imshow(/"new_image/", new_image)/n",
    "cv.waitKey(0)/n",
    "cv.destroyAllWindows()"
   ]
  },
  {
   "cell_type": "code",
   "execution_count": 109,
   "metadata": {},
   "outputs": [
    {
     "data": {
      "text/plain": [
       "True"
      ]
     },
     "execution_count": 109,
     "metadata": {},
     "output_type": "execute_result"
    }
   ],
   "source": [
    "cv.imwrite(/"images/rem_obj_06_new_image.jpg/", new_image)"
   ]
  },
  {
   "cell_type": "markdown",
   "metadata": {},
   "source": [
    "## Part 2"
   ]
  },
  {
   "cell_type": "code",
   "execution_count": 94,
   "metadata": {},
   "outputs": [],
   "source": [
    "orig_image = cv.imread(/"images/rem_obj_05.jpg/", 0)"
   ]
  },
  {
   "cell_type": "code",
   "execution_count": 95,
   "metadata": {},
   "outputs": [
    {
     "data": {
      "text/plain": [
       "(867, 1300)"
      ]
     },
     "execution_count": 95,
     "metadata": {},
     "output_type": "execute_result"
    }
   ],
   "source": [
    "mask = np.zeros(orig_image.shape, dtype=np.uint8)/n",
    "mask.shape"
   ]
  },
  {
   "cell_type": "code",
   "execution_count": 96,
   "metadata": {},
   "outputs": [],
   "source": [
    "mask[480:680, 270:450] = 255"
   ]
  },
  {
   "cell_type": "code",
   "execution_count": 97,
   "metadata": {},
   "outputs": [],
   "source": [
    "image_masked = cv.bitwise_and(orig_image, orig_image, mask= mask)"
   ]
  },
  {
   "cell_type": "code",
   "execution_count": 99,
   "metadata": {},
   "outputs": [],
   "source": [
    "new_image = cv.inpaint(orig_image, mask, 7, flags=cv.INPAINT_TELEA)"
   ]
  },
  {
   "cell_type": "code",
   "execution_count": 100,
   "metadata": {},
   "outputs": [],
   "source": [
    "cv.imshow(/"new_image/", new_image)/n",
    "cv.waitKey(0)/n",
    "cv.destroyAllWindows()"
   ]
  },
  {
   "cell_type": "code",
   "execution_count": 101,
   "metadata": {},
   "outputs": [
    {
     "data": {
      "text/plain": [
       "True"
      ]
     },
     "execution_count": 101,
     "metadata": {},
     "output_type": "execute_result"
    }
   ],
   "source": [
    "cv.imwrite(/"images/rem_obj_05_new_image.jpg/", new_image)"
   ]
  },
  {
   "cell_type": "markdown",
   "metadata": {},
   "source": [
    "## Part 3"
   ]
  },
  {
   "cell_type": "code",
   "execution_count": 138,
   "metadata": {},
   "outputs": [],
   "source": [
    "orig_image = cv.imread(/"images/rem_obj_03.jpg/")/n",
    "orig_image_gray = cv.imread(/"images/rem_obj_03.jpg/", 0)/n",
    "_, mask = cv.threshold(orig_image_gray, 170, 255, cv.THRESH_BINARY)/n",
    "mask2 = cv.dilate(mask, (15,15), iterations=5)/n",
    "new_image = cv.inpaint(orig_image, mask2, 15, flags=cv.INPAINT_TELEA)"
   ]
  },
  {
   "cell_type": "code",
   "execution_count": 139,
   "metadata": {},
   "outputs": [],
   "source": [
    "cv.imshow(/"new_image/", new_image)/n",
    "cv.waitKey(0)/n",
    "cv.destroyAllWindows()"
   ]
  },
  {
   "cell_type": "code",
   "execution_count": null,
   "metadata": {},
   "outputs": [],
   "source": []
  },
  {
   "cell_type": "markdown",
   "metadata": {},
   "source": [
    "## Part 4"
   ]
  },
  {
   "cell_type": "code",
   "execution_count": 179,
   "metadata": {},
   "outputs": [],
   "source": [
    "orig_image = cv.imread(/"images/rem_obj_02.jpg/")/n",
    "#orig_image_gray = cv.imread(/"images/rem_obj_02.jpg/", 0)/n",
    "img_hsv=cv.cvtColor(orig_image, cv.COLOR_BGR2HSV)/n",
    "/n",
    "lower_red = np.array([150,100,10])/n",
    "upper_red = np.array([180,200,255])/n",
    "/n",
    "mask = cv.inRange(img_hsv, lower_red, upper_red)/n",
    "/n",
    "#mask2 = cv.dilate(mask, (15,15), iterations=5)/n",
    "new_image = cv.inpaint(orig_image, mask, 15, flags=cv.INPAINT_TELEA)"
   ]
  },
  {
   "cell_type": "code",
   "execution_count": 183,
   "metadata": {},
   "outputs": [],
   "source": [
    "cv.imshow(/"new_image/", new_image)/n",
    "cv.waitKey(0)/n",
    "cv.destroyAllWindows()"
   ]
  },
  {
   "cell_type": "code",
   "execution_count": 182,
   "metadata": {},
   "outputs": [],
   "source": [
    "new_image = cv.inpaint(orig_image, mask, 15, flags=cv.INPAINT_TELEA)"
   ]
  },
  {
   "cell_type": "code",
   "execution_count": 184,
   "metadata": {},
   "outputs": [
    {
     "data": {
      "text/plain": [
       "True"
      ]
     },
     "execution_count": 184,
     "metadata": {},
     "output_type": "execute_result"
    }
   ],
   "source": [
    "cv.imwrite(/"images/rem_obj_02_new_image.jpg/", new_image)"
   ]
  },
  {
   "cell_type": "code",
   "execution_count": 181,
   "metadata": {},
   "outputs": [],
   "source": [
    "mask = cv.imread(/"images/rem_obj_02_mask.jpg/", 0)/n",
    "_, mask = cv.threshold(mask, 240, 255, cv.THRESH_BINARY)/n"
   ]
  },
  {
   "cell_type": "code",
   "execution_count": null,
   "metadata": {},
   "outputs": [],
   "source": []
  }
 ],
 "metadata": {
  "kernelspec": {
   "display_name": "Python 3.7.4 64-bit",
   "language": "python",
   "name": "python3"
  },
  "language_info": {
   "codemirror_mode": {
    "name": "ipython",
    "version": 3
   },
   "file_extension": ".py",
   "mimetype": "text/x-python",
   "name": "python",
   "nbconvert_exporter": "python",
   "pygments_lexer": "ipython3",
   "version": "3.7.4"
  },
  "orig_nbformat": 4,
  "vscode": {
   "interpreter": {
    "hash": "1f2ac25b4a6d870602abfa5d74e7d6f1ae274ba9e86645830384575c0e5c89f3"
   }
  }
 },
 "nbformat": 4,
 "nbformat_minor": 2
}
