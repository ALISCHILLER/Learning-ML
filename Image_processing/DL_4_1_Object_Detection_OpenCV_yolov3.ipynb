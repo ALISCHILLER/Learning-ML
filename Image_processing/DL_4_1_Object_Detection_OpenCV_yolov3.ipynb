{
 "cells": [
  {
   "cell_type": "code",
   "execution_count": 111,
   "metadata": {},
   "outputs": [],
   "source": [
    "import os/n",
    "import cv2 as cv/n",
    "import numpy as np"
   ]
  },
  {
   "cell_type": "code",
   "execution_count": 112,
   "metadata": {},
   "outputs": [],
   "source": [
    "yolo_path = /"E:/PyProjects/Learn_Python_codes/Image_processing/data/YOLO/""
   ]
  },
  {
   "cell_type": "code",
   "execution_count": 113,
   "metadata": {},
   "outputs": [
    {
     "data": {
      "text/plain": [
       "['person',/n",
       " 'bicycle',/n",
       " 'car',/n",
       " 'motorbike',/n",
       " 'aeroplane',/n",
       " 'bus',/n",
       " 'train',/n",
       " 'truck',/n",
       " 'boat',/n",
       " 'traffic light',/n",
       " 'fire hydrant',/n",
       " 'stop sign',/n",
       " 'parking meter',/n",
       " 'bench',/n",
       " 'bird',/n",
       " 'cat',/n",
       " 'dog',/n",
       " 'horse',/n",
       " 'sheep',/n",
       " 'cow',/n",
       " 'elephant',/n",
       " 'bear',/n",
       " 'zebra',/n",
       " 'giraffe',/n",
       " 'backpack',/n",
       " 'umbrella',/n",
       " 'handbag',/n",
       " 'tie',/n",
       " 'suitcase',/n",
       " 'frisbee',/n",
       " 'skis',/n",
       " 'snowboard',/n",
       " 'sports ball',/n",
       " 'kite',/n",
       " 'baseball bat',/n",
       " 'baseball glove',/n",
       " 'skateboard',/n",
       " 'surfboard',/n",
       " 'tennis racket',/n",
       " 'bottle',/n",
       " 'wine glass',/n",
       " 'cup',/n",
       " 'fork',/n",
       " 'knife',/n",
       " 'spoon',/n",
       " 'bowl',/n",
       " 'banana',/n",
       " 'apple',/n",
       " 'sandwich',/n",
       " 'orange',/n",
       " 'broccoli',/n",
       " 'carrot',/n",
       " 'hot dog',/n",
       " 'pizza',/n",
       " 'donut',/n",
       " 'cake',/n",
       " 'chair',/n",
       " 'sofa',/n",
       " 'pottedplant',/n",
       " 'bed',/n",
       " 'diningtable',/n",
       " 'toilet',/n",
       " 'tvmonitor',/n",
       " 'laptop',/n",
       " 'mouse',/n",
       " 'remote',/n",
       " 'keyboard',/n",
       " 'cell phone',/n",
       " 'microwave',/n",
       " 'oven',/n",
       " 'toaster',/n",
       " 'sink',/n",
       " 'refrigerator',/n",
       " 'book',/n",
       " 'clock',/n",
       " 'vase',/n",
       " 'scissors',/n",
       " 'teddy bear',/n",
       " 'hair drier',/n",
       " 'toothbrush']"
      ]
     },
     "execution_count": 113,
     "metadata": {},
     "output_type": "execute_result"
    }
   ],
   "source": [
    "classes = []/n",
    "with open(/"data/YOLO/coco.names/", /"r/") as f:/n",
    "    classes = [line.strip() for line in f.readlines()]/n",
    "classes"
   ]
  },
  {
   "cell_type": "code",
   "execution_count": 114,
   "metadata": {},
   "outputs": [],
   "source": [
    "yolo_net = cv.dnn.readNet(os.path.join(yolo_path,/"yolov3.weights/"), os.path.join(yolo_path,/"yolov3.cfg/"))/n",
    "layer_names = yolo_net.getLayerNames()/n",
    "output_layers = [layer_names[i - 1] for i in yolo_net.getUnconnectedOutLayers()]"
   ]
  },
  {
   "cell_type": "code",
   "execution_count": 115,
   "metadata": {},
   "outputs": [],
   "source": [
    "image = cv.imread(/"Images/05_tehran.jpg/")/n",
    "height, width, channels = image.shape/n"
   ]
  },
  {
   "cell_type": "code",
   "execution_count": 116,
   "metadata": {},
   "outputs": [],
   "source": [
    "img_blob = cv.dnn.blobFromImage(image, 0.00392, (416, 416), (0, 0, 0), True, crop=False)"
   ]
  },
  {
   "cell_type": "code",
   "execution_count": 117,
   "metadata": {},
   "outputs": [
    {
     "data": {
      "text/plain": [
       "(507, 85)"
      ]
     },
     "execution_count": 117,
     "metadata": {},
     "output_type": "execute_result"
    }
   ],
   "source": [
    "yolo_net.setInput(img_blob)/n",
    "outputs = yolo_net.forward(output_layers)/n",
    "outputs[0].shape"
   ]
  },
  {
   "cell_type": "code",
   "execution_count": 118,
   "metadata": {},
   "outputs": [],
   "source": [
    "class_ids = []/n",
    "confidences = []/n",
    "boxes = []/n",
    "for out in outputs:/n",
    "    for detection in out:/n",
    "        scores = detection[5:]/n",
    "        class_id = np.argmax(scores)/n",
    "        confidence = scores[class_id]/n",
    "        if confidence> 0.5:/n",
    "            center_x = int(detection[0] * width)/n",
    "            center_y = int(detection[1] * height)/n",
    "            w = int(detection[2] * width)/n",
    "            h = int(detection[3] * height)/n",
    "/n",
    "            # Rectangle coordinates/n",
    "            x = int(center_x - w / 2)/n",
    "            y = int(center_y - h / 2)/n",
    "            boxes.append([x, y, w, h])/n",
    "            confidences.append(float(confidence))/n",
    "            class_ids.append(class_id)/n"
   ]
  },
  {
   "cell_type": "code",
   "execution_count": 119,
   "metadata": {},
   "outputs": [
    {
     "data": {
      "text/plain": [
       "True"
      ]
     },
     "execution_count": 119,
     "metadata": {},
     "output_type": "execute_result"
    }
   ],
   "source": [
    "/n",
    "colors = np.random.uniform(0, 255, size=(len(classes), 3))/n",
    "colors[0],colors[1],colors[2],colors[5],colors[9] = (0, 136, 255), (226, 43, 138), (255, 191, 0), (153, 255, 255), (164, 203, 255)/n",
    "indexes = cv.dnn.NMSBoxes(boxes, confidences, 0.5, 0.4)/n",
    "/n",
    "for i in range(len(boxes)):/n",
    "    if i in indexes:/n",
    "        x, y, w, h = boxes[i]/n",
    "        label = str(classes[class_ids[i]])/n",
    "        color = colors[class_ids[i]]/n",
    "        cv.rectangle(image, (x, y), (x + w, y + h), color, 2)/n",
    "        cv.putText(image, label, (x, y + 30), cv.FONT_HERSHEY_PLAIN, 0.2, color, 2)/n",
    "/n",
    "cv.imwrite(/"Images/05_tehran_det_cv.png/",image)"
   ]
  },
  {
   "cell_type": "code",
   "execution_count": 99,
   "metadata": {},
   "outputs": [],
   "source": [
    "# Object detection in Video"
   ]
  },
  {
   "cell_type": "code",
   "execution_count": 120,
   "metadata": {},
   "outputs": [
    {
     "ename": "error",
     "evalue": "OpenCV(4.5.4) D://a//opencv-python//opencv-python//opencv//modules//highgui//src//window.cpp:1268: error: (-2:Unspecified error) The function is not implemented. Rebuild the library with Windows, GTK+ 2.x or Cocoa support. If you are on Ubuntu or Debian, install libgtk2.0-dev and pkg-config, then re-run cmake or configure script in function 'cvDestroyAllWindows'/n",
     "output_type": "error",
     "traceback": [
      "/u001b[1;31m---------------------------------------------------------------------------/u001b[0m",
      "/u001b[1;31merror/u001b[0m                                     Traceback (most recent call last)",
      "/u001b[1;32m<ipython-input-120-17399f682ba5>/u001b[0m in /u001b[0;36m<module>/u001b[1;34m/u001b[0m/n/u001b[0;32m     46/u001b[0m       /u001b[1;32mbreak/u001b[0m/u001b[1;33m/u001b[0m/u001b[1;33m/u001b[0m/u001b[0m/n/u001b[0;32m     47/u001b[0m /u001b[0mcap/u001b[0m/u001b[1;33m./u001b[0m/u001b[0mrelease/u001b[0m/u001b[1;33m(/u001b[0m/u001b[1;33m)/u001b[0m/u001b[1;33m/u001b[0m/u001b[1;33m/u001b[0m/u001b[0m/n/u001b[1;32m---> 48/u001b[1;33m /u001b[0mcv/u001b[0m/u001b[1;33m./u001b[0m/u001b[0mdestroyAllWindows/u001b[0m/u001b[1;33m(/u001b[0m/u001b[1;33m)/u001b[0m/u001b[1;33m/u001b[0m/u001b[1;33m/u001b[0m/u001b[0m/n/u001b[0m",
      "/u001b[1;31merror/u001b[0m: OpenCV(4.5.4) D://a//opencv-python//opencv-python//opencv//modules//highgui//src//window.cpp:1268: error: (-2:Unspecified error) The function is not implemented. Rebuild the library with Windows, GTK+ 2.x or Cocoa support. If you are on Ubuntu or Debian, install libgtk2.0-dev and pkg-config, then re-run cmake or configure script in function 'cvDestroyAllWindows'/n"
     ]
    }
   ],
   "source": [
    "cap = cv.VideoCapture(/"/Videos/driving_camera.mp4/")/n",
    "/n",
    "while(cap.isOpened()):/n",
    "  ret, frame = cap.read()/n",
    "  if ret == True:/n",
    "    img = cv.resize(frame, None, fx=0.8, fy=0.8)/n",
    "    height, width, channels = img.shape/n",
    "    blob = cv.dnn.blobFromImage(img, 0.00392, (416, 416), (0, 0, 0), True, crop=False)/n",
    "    yolo_net.setInput(blob)/n",
    "    outs = yolo_net.forward(output_layers)/n",
    "    class_ids = []/n",
    "    confidences = []/n",
    "    boxes = []/n",
    "    for out in outs:/n",
    "        for detection in out:/n",
    "            scores = detection[5:]/n",
    "            class_id = np.argmax(scores)/n",
    "            confidence = scores[class_id]/n",
    "            if confidence > 0.5:/n",
    "                # Object detected/n",
    "                center_x = int(detection[0] * width)/n",
    "                center_y = int(detection[1] * height)/n",
    "                w = int(detection[2] * width)/n",
    "                h = int(detection[3] * height)/n",
    "/n",
    "                # Rectangle coordinates/n",
    "                x = int(center_x - w / 2)/n",
    "                y = int(center_y - h / 2)/n",
    "/n",
    "                boxes.append([x, y, w, h])/n",
    "                confidences.append(float(confidence))/n",
    "                class_ids.append(class_id)/n",
    "/n",
    "    indexes = cv.dnn.NMSBoxes(boxes, confidences, 0.5, 0.4)/n",
    "    print(indexes)/n",
    "    font = cv.FONT_HERSHEY_PLAIN/n",
    "    for i in range(len(boxes)):/n",
    "        if i in indexes:/n",
    "            x, y, w, h = boxes[i]/n",
    "            label = str(classes[class_ids[i]])/n",
    "            color = colors[class_ids[i]]/n",
    "            cv.rectangle(img, (x, y), (x + w, y + h), color, 2)/n",
    "            cv.putText(img, label, (x, y + 30), font, 2, color, 2)/n",
    "    cv.imshow('Frame',img)/n",
    "    if cv.waitKey(25) & 0xFF == ord('q'):/n",
    "      break/n",
    "cap.release()/n",
    "cv.destroyAllWindows()"
   ]
  },
  {
   "cell_type": "code",
   "execution_count": null,
   "metadata": {},
   "outputs": [],
   "source": []
  }
 ],
 "metadata": {
  "kernelspec": {
   "display_name": "Python 3.7.4 64-bit",
   "language": "python",
   "name": "python3"
  },
  "language_info": {
   "codemirror_mode": {
    "name": "ipython",
    "version": 3
   },
   "file_extension": ".py",
   "mimetype": "text/x-python",
   "name": "python",
   "nbconvert_exporter": "python",
   "pygments_lexer": "ipython3",
   "version": "3.7.4"
  },
  "orig_nbformat": 4,
  "vscode": {
   "interpreter": {
    "hash": "1f2ac25b4a6d870602abfa5d74e7d6f1ae274ba9e86645830384575c0e5c89f3"
   }
  }
 },
 "nbformat": 4,
 "nbformat_minor": 2
}
