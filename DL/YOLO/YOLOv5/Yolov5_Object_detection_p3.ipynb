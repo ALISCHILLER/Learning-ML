{
  "cells": [
    {
      "cell_type": "code",
      "execution_count": 16,
      "metadata": {
        "colab": {
          "base_uri": "https://localhost:8080/"
        },
        "id": "leotrvw5kw-H",
        "outputId": "e9951340-4a12-4575-81f6-a5a9e511885c"
      },
      "outputs": [
        {
          "name": "stdout",
          "output_type": "stream",
          "text": [
            "Drive already mounted at /content/gdrive; to attempt to forcibly remount, call drive.mount(\"/content/gdrive\", force_remount=True).\n"
          ]
        }
      ],
      "source": [
        "from google.colab import drive\n",
        "drive.mount('/content/gdrive')"
      ]
    },
    {
      "cell_type": "code",
      "execution_count": 1,
      "metadata": {
        "id": "keriwNM6m-c9"
      },
      "outputs": [],
      "source": []
    },
    {
      "cell_type": "markdown",
      "metadata": {
        "id": "yN5_-wcKm1_L"
      },
      "source": [
        "# **YOLOv5**"
      ]
    },
    {
      "cell_type": "code",
      "execution_count": null,
      "metadata": {
        "id": "W8XcO_VJm5yd"
      },
      "outputs": [],
      "source": [
        "!python -m pip install --upgrade pip\n",
        "\n",
        "!pip install tensorflow\n",
        "\n",
        "!pip install tensorboard"
      ]
    },
    {
      "cell_type": "code",
      "execution_count": 3,
      "metadata": {
        "colab": {
          "base_uri": "https://localhost:8080/"
        },
        "id": "S_pof9Hwm6vX",
        "outputId": "08f50514-07dd-47a2-8eda-92ad641d939b"
      },
      "outputs": [
        {
          "name": "stdout",
          "output_type": "stream",
          "text": [
            "Looking in indexes: https://pypi.org/simple, https://us-python.pkg.dev/colab-wheels/public/simple/\n",
            "Requirement already satisfied: torch in /usr/local/lib/python3.7/dist-packages (1.12.0+cu113)\n",
            "Requirement already satisfied: typing-extensions in /usr/local/lib/python3.7/dist-packages (from torch) (4.1.1)\n",
            "\u001b[33mWARNING: Running pip as the 'root' user can result in broken permissions and conflicting behaviour with the system package manager. It is recommended to use a virtual environment instead: https://pip.pypa.io/warnings/venv\u001b[0m\u001b[33m\n",
            "\u001b[0m"
          ]
        }
      ],
      "source": [
        "!pip install torch"
      ]
    },
    {
      "cell_type": "code",
      "execution_count": 17,
      "metadata": {
        "id": "3I6AK-JM8xg7"
      },
      "outputs": [],
      "source": [
        "import torch\n",
        "from IPython.display import Image"
      ]
    },
    {
      "cell_type": "code",
      "execution_count": 5,
      "metadata": {
        "colab": {
          "base_uri": "https://localhost:8080/"
        },
        "id": "X-PiOqQw9Fuj",
        "outputId": "ba45ebf7-30c5-4565-927b-b3556a0668b0"
      },
      "outputs": [
        {
          "name": "stdout",
          "output_type": "stream",
          "text": [
            "Cloning into 'yolov5'...\n",
            "remote: Enumerating objects: 12557, done.\u001b[K\n",
            "remote: Counting objects: 100% (105/105), done.\u001b[K\n",
            "remote: Compressing objects: 100% (76/76), done.\u001b[K\n",
            "remote: Total 12557 (delta 57), reused 63 (delta 29), pack-reused 12452\u001b[K\n",
            "Receiving objects: 100% (12557/12557), 12.52 MiB | 17.69 MiB/s, done.\n",
            "Resolving deltas: 100% (8592/8592), done.\n"
          ]
        }
      ],
      "source": [
        "!git clone https://github.com/ultralytics/yolov5"
      ]
    },
    {
      "cell_type": "code",
      "execution_count": 6,
      "metadata": {
        "colab": {
          "base_uri": "https://localhost:8080/"
        },
        "id": "WE-VukGe9jJa",
        "outputId": "007310ec-077f-40f0-acf3-7af6dc88429f"
      },
      "outputs": [
        {
          "name": "stdout",
          "output_type": "stream",
          "text": [
            "/content/yolov5\n"
          ]
        }
      ],
      "source": [
        "%cd yolov5"
      ]
    },
    {
      "cell_type": "code",
      "execution_count": null,
      "metadata": {
        "id": "i_e8Y-zl9zgA"
      },
      "outputs": [],
      "source": [
        "!pip install -r requirements.txt"
      ]
    },
    {
      "cell_type": "code",
      "execution_count": null,
      "metadata": {
        "id": "2hr4OLID9-h5"
      },
      "outputs": [],
      "source": []
    },
    {
      "cell_type": "markdown",
      "metadata": {
        "id": "pspgsF0iQugA"
      },
      "source": [
        "## Part 3 _ My own dataset"
      ]
    },
    {
      "cell_type": "code",
      "execution_count": null,
      "metadata": {
        "id": "vwQyrpIyQxy5"
      },
      "outputs": [],
      "source": [
        "!pip install roboflow"
      ]
    },
    {
      "cell_type": "code",
      "execution_count": 47,
      "metadata": {
        "colab": {
          "base_uri": "https://localhost:8080/"
        },
        "id": "uIep6IQdYtpk",
        "outputId": "fb70241a-ddaa-48ea-b47f-6e8d8020cff0"
      },
      "outputs": [
        {
          "name": "stdout",
          "output_type": "stream",
          "text": [
            "loading Roboflow workspace...\n",
            "loading Roboflow project...\n",
            "Downloading Dataset Version Zip in Face_n_nums-1 to yolov5pytorch: 100% [3304324 / 3304324] bytes\n"
          ]
        },
        {
          "name": "stderr",
          "output_type": "stream",
          "text": [
            "Extracting Dataset Version Zip to Face_n_nums-1 in yolov5pytorch:: 100%|██████████| 243/243 [00:00<00:00, 1593.41it/s]\n"
          ]
        }
      ],
      "source": [
        "from roboflow import Roboflow\n",
        "rf = Roboflow(api_key=\"VdwBRxsJsFmCMW94xJjd\")\n",
        "project = rf.workspace(\"object-detection-yolov5\").project(\"face_n_nums\")\n",
        "dataset = project.version(1).download(\"yolov5\")"
      ]
    },
    {
      "cell_type": "code",
      "execution_count": 50,
      "metadata": {
        "colab": {
          "base_uri": "https://localhost:8080/"
        },
        "id": "Hw-dGAtTYvvC",
        "outputId": "61d01d30-b7ce-4684-db3d-616c69afe0f5"
      },
      "outputs": [
        {
          "name": "stdout",
          "output_type": "stream",
          "text": [
            "\u001b[34m\u001b[1mtrain: \u001b[0mweights=yolov5m.pt, cfg=, data=/content/yolov5/Face_n_nums-1/data.yaml, hyp=data/hyps/hyp.scratch-low.yaml, epochs=60, batch_size=16, imgsz=416, rect=False, resume=False, nosave=False, noval=False, noautoanchor=False, noplots=False, evolve=None, bucket=, cache=ram, image_weights=False, device=, multi_scale=False, single_cls=False, optimizer=SGD, sync_bn=False, workers=8, project=runs/train, name=exp, exist_ok=False, quad=False, cos_lr=False, label_smoothing=0.0, patience=100, freeze=[0], save_period=-1, seed=0, local_rank=-1, entity=None, upload_dataset=False, bbox_interval=-1, artifact_alias=latest\n",
            "\u001b[34m\u001b[1mgithub: \u001b[0mup to date with https://github.com/ultralytics/yolov5 ✅\n",
            "YOLOv5 🚀 v6.1-376-g48a8531 Python-3.7.13 torch-1.12.0+cu113 CUDA:0 (Tesla T4, 15110MiB)\n",
            "\n",
            "\u001b[34m\u001b[1mhyperparameters: \u001b[0mlr0=0.01, lrf=0.01, momentum=0.937, weight_decay=0.0005, warmup_epochs=3.0, warmup_momentum=0.8, warmup_bias_lr=0.1, box=0.05, cls=0.5, cls_pw=1.0, obj=1.0, obj_pw=1.0, iou_t=0.2, anchor_t=4.0, fl_gamma=0.0, hsv_h=0.015, hsv_s=0.7, hsv_v=0.4, degrees=0.0, translate=0.1, scale=0.5, shear=0.0, perspective=0.0, flipud=0.0, fliplr=0.5, mosaic=1.0, mixup=0.0, copy_paste=0.0\n",
            "\u001b[34m\u001b[1mWeights & Biases: \u001b[0mrun 'pip install wandb' to automatically track and visualize YOLOv5 🚀 runs in Weights & Biases\n",
            "\u001b[34m\u001b[1mClearML: \u001b[0mrun 'pip install clearml' to automatically track, visualize and remotely train YOLOv5 🚀 runs in ClearML\n",
            "\u001b[34m\u001b[1mTensorBoard: \u001b[0mStart with 'tensorboard --logdir runs/train', view at http://localhost:6006/\n",
            "Overriding model.yaml nc=80 with nc=3\n",
            "\n",
            "                 from  n    params  module                                  arguments                     \n",
            "  0                -1  1      5280  models.common.Conv                      [3, 48, 6, 2, 2]              \n",
            "  1                -1  1     41664  models.common.Conv                      [48, 96, 3, 2]                \n",
            "  2                -1  2     65280  models.common.C3                        [96, 96, 2]                   \n",
            "  3                -1  1    166272  models.common.Conv                      [96, 192, 3, 2]               \n",
            "  4                -1  4    444672  models.common.C3                        [192, 192, 4]                 \n",
            "  5                -1  1    664320  models.common.Conv                      [192, 384, 3, 2]              \n",
            "  6                -1  6   2512896  models.common.C3                        [384, 384, 6]                 \n",
            "  7                -1  1   2655744  models.common.Conv                      [384, 768, 3, 2]              \n",
            "  8                -1  2   4134912  models.common.C3                        [768, 768, 2]                 \n",
            "  9                -1  1   1476864  models.common.SPPF                      [768, 768, 5]                 \n",
            " 10                -1  1    295680  models.common.Conv                      [768, 384, 1, 1]              \n",
            " 11                -1  1         0  torch.nn.modules.upsampling.Upsample    [None, 2, 'nearest']          \n",
            " 12           [-1, 6]  1         0  models.common.Concat                    [1]                           \n",
            " 13                -1  2   1182720  models.common.C3                        [768, 384, 2, False]          \n",
            " 14                -1  1     74112  models.common.Conv                      [384, 192, 1, 1]              \n",
            " 15                -1  1         0  torch.nn.modules.upsampling.Upsample    [None, 2, 'nearest']          \n",
            " 16           [-1, 4]  1         0  models.common.Concat                    [1]                           \n",
            " 17                -1  2    296448  models.common.C3                        [384, 192, 2, False]          \n",
            " 18                -1  1    332160  models.common.Conv                      [192, 192, 3, 2]              \n",
            " 19          [-1, 14]  1         0  models.common.Concat                    [1]                           \n",
            " 20                -1  2   1035264  models.common.C3                        [384, 384, 2, False]          \n",
            " 21                -1  1   1327872  models.common.Conv                      [384, 384, 3, 2]              \n",
            " 22          [-1, 10]  1         0  models.common.Concat                    [1]                           \n",
            " 23                -1  2   4134912  models.common.C3                        [768, 768, 2, False]          \n",
            " 24      [17, 20, 23]  1     32328  models.yolo.Detect                      [3, [[10, 13, 16, 30, 33, 23], [30, 61, 62, 45, 59, 119], [116, 90, 156, 198, 373, 326]], [192, 384, 768]]\n",
            "Model summary: 369 layers, 20879400 parameters, 20879400 gradients, 48.2 GFLOPs\n",
            "\n",
            "Transferred 475/481 items from yolov5m.pt\n",
            "\u001b[34m\u001b[1mAMP: \u001b[0mchecks passed ✅\n",
            "\u001b[34m\u001b[1moptimizer:\u001b[0m SGD(lr=0.01) with parameter groups 79 weight(decay=0.0), 82 weight(decay=0.0005), 82 bias\n",
            "\u001b[34m\u001b[1malbumentations: \u001b[0mBlur(always_apply=False, p=0.01, blur_limit=(3, 7)), MedianBlur(always_apply=False, p=0.01, blur_limit=(3, 7)), ToGray(always_apply=False, p=0.01), CLAHE(always_apply=False, p=0.01, clip_limit=(1, 4.0), tile_grid_size=(8, 8))\n",
            "\u001b[34m\u001b[1mtrain: \u001b[0mScanning '/content/yolov5/Face_n_nums-1/train/labels.cache' images and labels... 108 found, 0 missing, 0 empty, 0 corrupt: 100% 108/108 [00:00<?, ?it/s]\n",
            "\u001b[34m\u001b[1mtrain: \u001b[0mCaching images (0.1GB ram): 100% 108/108 [00:00<00:00, 402.74it/s]\n",
            "\u001b[34m\u001b[1mval: \u001b[0mScanning '/content/yolov5/Face_n_nums-1/valid/labels.cache' images and labels... 9 found, 0 missing, 0 empty, 0 corrupt: 100% 9/9 [00:00<?, ?it/s]\n",
            "\u001b[34m\u001b[1mval: \u001b[0mCaching images (0.0GB ram): 100% 9/9 [00:00<00:00, 132.22it/s]\n",
            "Plotting labels to runs/train/exp5/labels.jpg... \n",
            "\n",
            "\u001b[34m\u001b[1mAutoAnchor: \u001b[0m4.32 anchors/target, 1.000 Best Possible Recall (BPR). Current anchors are a good fit to dataset ✅\n",
            "Image sizes 416 train, 416 val\n",
            "Using 2 dataloader workers\n",
            "Logging results to \u001b[1mruns/train/exp5\u001b[0m\n",
            "Starting training for 60 epochs...\n",
            "\n",
            "     Epoch   gpu_mem       box       obj       cls    labels  img_size\n",
            "      0/59     2.91G     0.119   0.02446   0.04092        49       416: 100% 7/7 [00:05<00:00,  1.36it/s]\n",
            "               Class     Images     Labels          P          R     mAP@.5 mAP@.5:.95: 100% 1/1 [00:00<00:00,  8.38it/s]\n",
            "                 all          9         17    0.00458      0.704    0.00564    0.00172\n",
            "\n",
            "     Epoch   gpu_mem       box       obj       cls    labels  img_size\n",
            "      1/59     2.91G    0.1045   0.02924   0.03897        46       416: 100% 7/7 [00:01<00:00,  4.31it/s]\n",
            "               Class     Images     Labels          P          R     mAP@.5 mAP@.5:.95: 100% 1/1 [00:00<00:00,  8.83it/s]\n",
            "                 all          9         17    0.00493      0.667     0.0105    0.00296\n",
            "\n",
            "     Epoch   gpu_mem       box       obj       cls    labels  img_size\n",
            "      2/59     2.91G     0.086   0.03456   0.03746        48       416: 100% 7/7 [00:01<00:00,  4.61it/s]\n",
            "               Class     Images     Labels          P          R     mAP@.5 mAP@.5:.95: 100% 1/1 [00:00<00:00,  8.51it/s]\n",
            "                 all          9         17    0.00543      0.778     0.0541     0.0123\n",
            "\n",
            "     Epoch   gpu_mem       box       obj       cls    labels  img_size\n",
            "      3/59     2.91G   0.07741   0.03747   0.03499        53       416: 100% 7/7 [00:01<00:00,  4.85it/s]\n",
            "               Class     Images     Labels          P          R     mAP@.5 mAP@.5:.95: 100% 1/1 [00:00<00:00,  7.91it/s]\n",
            "                 all          9         17    0.00524      0.778      0.141     0.0399\n",
            "\n",
            "     Epoch   gpu_mem       box       obj       cls    labels  img_size\n",
            "      4/59     2.91G   0.07041   0.03627   0.03321        31       416: 100% 7/7 [00:01<00:00,  4.78it/s]\n",
            "               Class     Images     Labels          P          R     mAP@.5 mAP@.5:.95: 100% 1/1 [00:00<00:00,  9.23it/s]\n",
            "                 all          9         17      0.673      0.296      0.325     0.0932\n",
            "\n",
            "     Epoch   gpu_mem       box       obj       cls    labels  img_size\n",
            "      5/59     2.91G   0.06366    0.0322   0.03037        49       416: 100% 7/7 [00:01<00:00,  4.84it/s]\n",
            "               Class     Images     Labels          P          R     mAP@.5 mAP@.5:.95: 100% 1/1 [00:00<00:00,  9.65it/s]\n",
            "                 all          9         17      0.153      0.556      0.299      0.107\n",
            "\n",
            "     Epoch   gpu_mem       box       obj       cls    labels  img_size\n",
            "      6/59     2.91G   0.06186   0.03142   0.02857        44       416: 100% 7/7 [00:01<00:00,  4.63it/s]\n",
            "               Class     Images     Labels          P          R     mAP@.5 mAP@.5:.95: 100% 1/1 [00:00<00:00,  9.46it/s]\n",
            "                 all          9         17      0.832      0.222      0.341     0.0981\n",
            "\n",
            "     Epoch   gpu_mem       box       obj       cls    labels  img_size\n",
            "      7/59     2.91G    0.0631   0.02936   0.02646        45       416: 100% 7/7 [00:01<00:00,  5.05it/s]\n",
            "               Class     Images     Labels          P          R     mAP@.5 mAP@.5:.95: 100% 1/1 [00:00<00:00,  9.71it/s]\n",
            "                 all          9         17      0.116      0.724      0.234     0.0579\n",
            "\n",
            "     Epoch   gpu_mem       box       obj       cls    labels  img_size\n",
            "      8/59     2.91G   0.06461    0.0299   0.02712        43       416: 100% 7/7 [00:01<00:00,  4.80it/s]\n",
            "               Class     Images     Labels          P          R     mAP@.5 mAP@.5:.95: 100% 1/1 [00:00<00:00, 10.66it/s]\n",
            "                 all          9         17     0.0992      0.611      0.205     0.0603\n",
            "\n",
            "     Epoch   gpu_mem       box       obj       cls    labels  img_size\n",
            "      9/59     2.91G   0.06068   0.02947   0.02504        52       416: 100% 7/7 [00:01<00:00,  4.43it/s]\n",
            "               Class     Images     Labels          P          R     mAP@.5 mAP@.5:.95: 100% 1/1 [00:00<00:00,  9.92it/s]\n",
            "                 all          9         17      0.177      0.722      0.373      0.118\n",
            "\n",
            "     Epoch   gpu_mem       box       obj       cls    labels  img_size\n",
            "     10/59     2.91G   0.06044   0.02852   0.02395        49       416: 100% 7/7 [00:01<00:00,  4.86it/s]\n",
            "               Class     Images     Labels          P          R     mAP@.5 mAP@.5:.95: 100% 1/1 [00:00<00:00, 10.29it/s]\n",
            "                 all          9         17      0.254        0.5      0.624      0.192\n",
            "\n",
            "     Epoch   gpu_mem       box       obj       cls    labels  img_size\n",
            "     11/59     2.91G   0.05776   0.02848   0.02264        54       416: 100% 7/7 [00:01<00:00,  4.76it/s]\n",
            "               Class     Images     Labels          P          R     mAP@.5 mAP@.5:.95: 100% 1/1 [00:00<00:00, 10.80it/s]\n",
            "                 all          9         17      0.145      0.778      0.222     0.0518\n",
            "\n",
            "     Epoch   gpu_mem       box       obj       cls    labels  img_size\n",
            "     12/59     2.91G   0.06196   0.02679   0.02259        57       416: 100% 7/7 [00:01<00:00,  4.82it/s]\n",
            "               Class     Images     Labels          P          R     mAP@.5 mAP@.5:.95: 100% 1/1 [00:00<00:00, 11.50it/s]\n",
            "                 all          9         17      0.478      0.889       0.74      0.245\n",
            "\n",
            "     Epoch   gpu_mem       box       obj       cls    labels  img_size\n",
            "     13/59     2.91G   0.05372   0.02644   0.02059        44       416: 100% 7/7 [00:01<00:00,  5.01it/s]\n",
            "               Class     Images     Labels          P          R     mAP@.5 mAP@.5:.95: 100% 1/1 [00:00<00:00, 10.69it/s]\n",
            "                 all          9         17      0.317      0.741      0.692      0.255\n",
            "\n",
            "     Epoch   gpu_mem       box       obj       cls    labels  img_size\n",
            "     14/59     2.91G     0.058   0.02391   0.02064        45       416: 100% 7/7 [00:01<00:00,  4.93it/s]\n",
            "               Class     Images     Labels          P          R     mAP@.5 mAP@.5:.95: 100% 1/1 [00:00<00:00, 11.40it/s]\n",
            "                 all          9         17      0.273      0.759      0.383      0.101\n",
            "\n",
            "     Epoch   gpu_mem       box       obj       cls    labels  img_size\n",
            "     15/59     2.91G   0.05768   0.02537   0.01982        54       416: 100% 7/7 [00:01<00:00,  5.02it/s]\n",
            "               Class     Images     Labels          P          R     mAP@.5 mAP@.5:.95: 100% 1/1 [00:00<00:00, 11.54it/s]\n",
            "                 all          9         17      0.716      0.916        0.9      0.352\n",
            "\n",
            "     Epoch   gpu_mem       box       obj       cls    labels  img_size\n",
            "     16/59     2.91G   0.05621   0.02322   0.01834        46       416: 100% 7/7 [00:01<00:00,  4.83it/s]\n",
            "               Class     Images     Labels          P          R     mAP@.5 mAP@.5:.95: 100% 1/1 [00:00<00:00, 10.19it/s]\n",
            "                 all          9         17      0.372      0.806      0.449      0.107\n",
            "\n",
            "     Epoch   gpu_mem       box       obj       cls    labels  img_size\n",
            "     17/59     2.91G   0.05378   0.02176   0.01914        41       416: 100% 7/7 [00:01<00:00,  4.93it/s]\n",
            "               Class     Images     Labels          P          R     mAP@.5 mAP@.5:.95: 100% 1/1 [00:00<00:00, 11.69it/s]\n",
            "                 all          9         17      0.505      0.889      0.741      0.316\n",
            "\n",
            "     Epoch   gpu_mem       box       obj       cls    labels  img_size\n",
            "     18/59     2.91G   0.04903   0.02226    0.0167        47       416: 100% 7/7 [00:01<00:00,  4.83it/s]\n",
            "               Class     Images     Labels          P          R     mAP@.5 mAP@.5:.95: 100% 1/1 [00:00<00:00, 10.69it/s]\n",
            "                 all          9         17      0.376          1      0.609      0.192\n",
            "\n",
            "     Epoch   gpu_mem       box       obj       cls    labels  img_size\n",
            "     19/59     2.91G   0.04829   0.02464   0.01814        43       416: 100% 7/7 [00:01<00:00,  4.95it/s]\n",
            "               Class     Images     Labels          P          R     mAP@.5 mAP@.5:.95: 100% 1/1 [00:00<00:00, 11.31it/s]\n",
            "                 all          9         17      0.274          1      0.601       0.22\n",
            "\n",
            "     Epoch   gpu_mem       box       obj       cls    labels  img_size\n",
            "     20/59     2.91G   0.04977   0.02218   0.01701        67       416: 100% 7/7 [00:01<00:00,  4.99it/s]\n",
            "               Class     Images     Labels          P          R     mAP@.5 mAP@.5:.95: 100% 1/1 [00:00<00:00, 12.09it/s]\n",
            "                 all          9         17      0.426      0.684      0.751      0.339\n",
            "\n",
            "     Epoch   gpu_mem       box       obj       cls    labels  img_size\n",
            "     21/59     2.91G   0.04648   0.02162   0.01432        32       416: 100% 7/7 [00:01<00:00,  4.94it/s]\n",
            "               Class     Images     Labels          P          R     mAP@.5 mAP@.5:.95: 100% 1/1 [00:00<00:00, 12.33it/s]\n",
            "                 all          9         17      0.437      0.722      0.539      0.168\n",
            "\n",
            "     Epoch   gpu_mem       box       obj       cls    labels  img_size\n",
            "     22/59     2.91G   0.04713   0.02179   0.01741        46       416: 100% 7/7 [00:01<00:00,  4.87it/s]\n",
            "               Class     Images     Labels          P          R     mAP@.5 mAP@.5:.95: 100% 1/1 [00:00<00:00, 11.21it/s]\n",
            "                 all          9         17      0.376      0.704      0.645      0.298\n",
            "\n",
            "     Epoch   gpu_mem       box       obj       cls    labels  img_size\n",
            "     23/59     2.91G   0.04639   0.02181   0.01411        36       416: 100% 7/7 [00:01<00:00,  5.01it/s]\n",
            "               Class     Images     Labels          P          R     mAP@.5 mAP@.5:.95: 100% 1/1 [00:00<00:00, 11.49it/s]\n",
            "                 all          9         17      0.483      0.722      0.841      0.411\n",
            "\n",
            "     Epoch   gpu_mem       box       obj       cls    labels  img_size\n",
            "     24/59     2.91G   0.04563   0.02204   0.01435        52       416: 100% 7/7 [00:01<00:00,  5.01it/s]\n",
            "               Class     Images     Labels          P          R     mAP@.5 mAP@.5:.95: 100% 1/1 [00:00<00:00, 12.04it/s]\n",
            "                 all          9         17      0.803      0.971      0.903      0.353\n",
            "\n",
            "     Epoch   gpu_mem       box       obj       cls    labels  img_size\n",
            "     25/59     2.91G   0.04169   0.01975   0.01368        45       416: 100% 7/7 [00:01<00:00,  4.98it/s]\n",
            "               Class     Images     Labels          P          R     mAP@.5 mAP@.5:.95: 100% 1/1 [00:00<00:00, 11.69it/s]\n",
            "                 all          9         17      0.555      0.778      0.943      0.546\n",
            "\n",
            "     Epoch   gpu_mem       box       obj       cls    labels  img_size\n",
            "     26/59     2.91G    0.0465   0.02268   0.01473        45       416: 100% 7/7 [00:01<00:00,  3.79it/s]\n",
            "               Class     Images     Labels          P          R     mAP@.5 mAP@.5:.95: 100% 1/1 [00:00<00:00,  9.25it/s]\n",
            "                 all          9         17      0.411      0.802      0.726      0.388\n",
            "\n",
            "     Epoch   gpu_mem       box       obj       cls    labels  img_size\n",
            "     27/59     2.91G   0.04305   0.01899   0.01362        35       416: 100% 7/7 [00:02<00:00,  3.45it/s]\n",
            "               Class     Images     Labels          P          R     mAP@.5 mAP@.5:.95: 100% 1/1 [00:00<00:00,  8.15it/s]\n",
            "                 all          9         17      0.699      0.889      0.895      0.489\n",
            "\n",
            "     Epoch   gpu_mem       box       obj       cls    labels  img_size\n",
            "     28/59     2.91G   0.04022   0.02095   0.01042        48       416: 100% 7/7 [00:01<00:00,  5.05it/s]\n",
            "               Class     Images     Labels          P          R     mAP@.5 mAP@.5:.95: 100% 1/1 [00:00<00:00, 11.85it/s]\n",
            "                 all          9         17      0.786      0.944      0.971      0.383\n",
            "\n",
            "     Epoch   gpu_mem       box       obj       cls    labels  img_size\n",
            "     29/59     2.91G   0.03872   0.01905    0.0106        46       416: 100% 7/7 [00:01<00:00,  4.95it/s]\n",
            "               Class     Images     Labels          P          R     mAP@.5 mAP@.5:.95: 100% 1/1 [00:00<00:00, 11.95it/s]\n",
            "                 all          9         17      0.829      0.871        0.9      0.385\n",
            "\n",
            "     Epoch   gpu_mem       box       obj       cls    labels  img_size\n",
            "     30/59     2.91G   0.04118   0.02124   0.01019        47       416: 100% 7/7 [00:01<00:00,  4.85it/s]\n",
            "               Class     Images     Labels          P          R     mAP@.5 mAP@.5:.95: 100% 1/1 [00:00<00:00, 11.33it/s]\n",
            "                 all          9         17       0.78      0.956      0.926      0.511\n",
            "\n",
            "     Epoch   gpu_mem       box       obj       cls    labels  img_size\n",
            "     31/59     2.91G   0.03994   0.01889   0.01127        46       416: 100% 7/7 [00:01<00:00,  4.88it/s]\n",
            "               Class     Images     Labels          P          R     mAP@.5 mAP@.5:.95: 100% 1/1 [00:00<00:00, 11.70it/s]\n",
            "                 all          9         17      0.824      0.956      0.939      0.513\n",
            "\n",
            "     Epoch   gpu_mem       box       obj       cls    labels  img_size\n",
            "     32/59     2.91G   0.03913   0.01893    0.0106        44       416: 100% 7/7 [00:01<00:00,  4.91it/s]\n",
            "               Class     Images     Labels          P          R     mAP@.5 mAP@.5:.95: 100% 1/1 [00:00<00:00, 11.78it/s]\n",
            "                 all          9         17      0.572       0.84      0.799      0.226\n",
            "\n",
            "     Epoch   gpu_mem       box       obj       cls    labels  img_size\n",
            "     33/59     2.91G   0.03747   0.02103  0.009728        49       416: 100% 7/7 [00:01<00:00,  5.00it/s]\n",
            "               Class     Images     Labels          P          R     mAP@.5 mAP@.5:.95: 100% 1/1 [00:00<00:00, 10.55it/s]\n",
            "                 all          9         17      0.732      0.954      0.912      0.559\n",
            "\n",
            "     Epoch   gpu_mem       box       obj       cls    labels  img_size\n",
            "     34/59     2.91G   0.03737   0.01862  0.007653        45       416: 100% 7/7 [00:01<00:00,  4.92it/s]\n",
            "               Class     Images     Labels          P          R     mAP@.5 mAP@.5:.95: 100% 1/1 [00:00<00:00, 10.76it/s]\n",
            "                 all          9         17      0.779      0.944      0.904      0.494\n",
            "\n",
            "     Epoch   gpu_mem       box       obj       cls    labels  img_size\n",
            "     35/59     2.91G   0.03685   0.02029   0.01059        44       416: 100% 7/7 [00:01<00:00,  4.02it/s]\n",
            "               Class     Images     Labels          P          R     mAP@.5 mAP@.5:.95: 100% 1/1 [00:00<00:00,  7.01it/s]\n",
            "                 all          9         17       0.98          1      0.995      0.645\n",
            "\n",
            "     Epoch   gpu_mem       box       obj       cls    labels  img_size\n",
            "     36/59     2.91G   0.03528   0.01923  0.009381        37       416: 100% 7/7 [00:01<00:00,  4.75it/s]\n",
            "               Class     Images     Labels          P          R     mAP@.5 mAP@.5:.95: 100% 1/1 [00:00<00:00, 11.11it/s]\n",
            "                 all          9         17      0.981          1      0.995      0.426\n",
            "\n",
            "     Epoch   gpu_mem       box       obj       cls    labels  img_size\n",
            "     37/59     2.91G   0.03266   0.01754  0.008505        47       416: 100% 7/7 [00:01<00:00,  4.68it/s]\n",
            "               Class     Images     Labels          P          R     mAP@.5 mAP@.5:.95: 100% 1/1 [00:00<00:00,  5.06it/s]\n",
            "                 all          9         17       0.98      0.997      0.995      0.382\n",
            "\n",
            "     Epoch   gpu_mem       box       obj       cls    labels  img_size\n",
            "     38/59     2.91G    0.0335   0.01831  0.007222        48       416: 100% 7/7 [00:01<00:00,  4.15it/s]\n",
            "               Class     Images     Labels          P          R     mAP@.5 mAP@.5:.95: 100% 1/1 [00:00<00:00, 10.40it/s]\n",
            "                 all          9         17      0.995      0.928      0.995      0.415\n",
            "\n",
            "     Epoch   gpu_mem       box       obj       cls    labels  img_size\n",
            "     39/59     2.91G   0.03409   0.01831  0.008988        36       416: 100% 7/7 [00:01<00:00,  4.92it/s]\n",
            "               Class     Images     Labels          P          R     mAP@.5 mAP@.5:.95: 100% 1/1 [00:00<00:00, 11.97it/s]\n",
            "                 all          9         17      0.874       0.96      0.939      0.314\n",
            "\n",
            "     Epoch   gpu_mem       box       obj       cls    labels  img_size\n",
            "     40/59     2.91G   0.03275   0.01719  0.007606        38       416: 100% 7/7 [00:01<00:00,  4.78it/s]\n",
            "               Class     Images     Labels          P          R     mAP@.5 mAP@.5:.95: 100% 1/1 [00:00<00:00, 12.03it/s]\n",
            "                 all          9         17      0.811      0.944      0.904       0.57\n",
            "\n",
            "     Epoch   gpu_mem       box       obj       cls    labels  img_size\n",
            "     41/59     2.91G   0.03352   0.01808  0.006587        56       416: 100% 7/7 [00:01<00:00,  4.90it/s]\n",
            "               Class     Images     Labels          P          R     mAP@.5 mAP@.5:.95: 100% 1/1 [00:00<00:00, 11.67it/s]\n",
            "                 all          9         17      0.868      0.944      0.932       0.28\n",
            "\n",
            "     Epoch   gpu_mem       box       obj       cls    labels  img_size\n",
            "     42/59     2.91G   0.03476   0.01989  0.008569        52       416: 100% 7/7 [00:01<00:00,  4.85it/s]\n",
            "               Class     Images     Labels          P          R     mAP@.5 mAP@.5:.95: 100% 1/1 [00:00<00:00, 12.05it/s]\n",
            "                 all          9         17      0.871      0.957      0.939      0.643\n",
            "\n",
            "     Epoch   gpu_mem       box       obj       cls    labels  img_size\n",
            "     43/59     2.91G   0.03275   0.01885  0.009552        62       416: 100% 7/7 [00:01<00:00,  4.89it/s]\n",
            "               Class     Images     Labels          P          R     mAP@.5 mAP@.5:.95: 100% 1/1 [00:00<00:00, 11.46it/s]\n",
            "                 all          9         17      0.871      0.956      0.939      0.384\n",
            "\n",
            "     Epoch   gpu_mem       box       obj       cls    labels  img_size\n",
            "     44/59     2.91G   0.03079   0.01601   0.00797        46       416: 100% 7/7 [00:01<00:00,  4.95it/s]\n",
            "               Class     Images     Labels          P          R     mAP@.5 mAP@.5:.95: 100% 1/1 [00:00<00:00, 12.05it/s]\n",
            "                 all          9         17      0.873      0.962      0.939      0.393\n",
            "\n",
            "     Epoch   gpu_mem       box       obj       cls    labels  img_size\n",
            "     45/59     2.91G   0.02907   0.01563  0.007213        39       416: 100% 7/7 [00:01<00:00,  4.97it/s]\n",
            "               Class     Images     Labels          P          R     mAP@.5 mAP@.5:.95: 100% 1/1 [00:00<00:00, 11.03it/s]\n",
            "                 all          9         17      0.874      0.958      0.939      0.543\n",
            "\n",
            "     Epoch   gpu_mem       box       obj       cls    labels  img_size\n",
            "     46/59     2.91G   0.02871   0.01757  0.006868        57       416: 100% 7/7 [00:01<00:00,  4.83it/s]\n",
            "               Class     Images     Labels          P          R     mAP@.5 mAP@.5:.95: 100% 1/1 [00:00<00:00, 10.52it/s]\n",
            "                 all          9         17      0.875      0.957      0.939      0.543\n",
            "\n",
            "     Epoch   gpu_mem       box       obj       cls    labels  img_size\n",
            "     47/59     2.91G   0.02843   0.01698  0.006296        52       416: 100% 7/7 [00:01<00:00,  4.49it/s]\n",
            "               Class     Images     Labels          P          R     mAP@.5 mAP@.5:.95: 100% 1/1 [00:00<00:00, 11.66it/s]\n",
            "                 all          9         17      0.876      0.956      0.939      0.475\n",
            "\n",
            "     Epoch   gpu_mem       box       obj       cls    labels  img_size\n",
            "     48/59     2.91G    0.0294   0.01678  0.006639        47       416: 100% 7/7 [00:01<00:00,  4.98it/s]\n",
            "               Class     Images     Labels          P          R     mAP@.5 mAP@.5:.95: 100% 1/1 [00:00<00:00, 10.87it/s]\n",
            "                 all          9         17      0.876      0.956      0.939      0.423\n",
            "\n",
            "     Epoch   gpu_mem       box       obj       cls    labels  img_size\n",
            "     49/59     2.91G   0.02866   0.01532  0.005561        53       416: 100% 7/7 [00:01<00:00,  4.70it/s]\n",
            "               Class     Images     Labels          P          R     mAP@.5 mAP@.5:.95: 100% 1/1 [00:00<00:00, 10.73it/s]\n",
            "                 all          9         17      0.877      0.955      0.939      0.507\n",
            "\n",
            "     Epoch   gpu_mem       box       obj       cls    labels  img_size\n",
            "     50/59     2.91G    0.0287   0.01781  0.007281        45       416: 100% 7/7 [00:01<00:00,  4.92it/s]\n",
            "               Class     Images     Labels          P          R     mAP@.5 mAP@.5:.95: 100% 1/1 [00:00<00:00, 10.32it/s]\n",
            "                 all          9         17      0.878      0.954      0.939      0.511\n",
            "\n",
            "     Epoch   gpu_mem       box       obj       cls    labels  img_size\n",
            "     51/59     2.91G   0.02908   0.01758  0.009052        53       416: 100% 7/7 [00:01<00:00,  4.88it/s]\n",
            "               Class     Images     Labels          P          R     mAP@.5 mAP@.5:.95: 100% 1/1 [00:00<00:00, 11.66it/s]\n",
            "                 all          9         17      0.878      0.954      0.939      0.425\n",
            "\n",
            "     Epoch   gpu_mem       box       obj       cls    labels  img_size\n",
            "     52/59     2.91G     0.028   0.01704  0.008777        51       416: 100% 7/7 [00:01<00:00,  5.04it/s]\n",
            "               Class     Images     Labels          P          R     mAP@.5 mAP@.5:.95: 100% 1/1 [00:00<00:00, 11.50it/s]\n",
            "                 all          9         17      0.878      0.954      0.939      0.446\n",
            "\n",
            "     Epoch   gpu_mem       box       obj       cls    labels  img_size\n",
            "     53/59     2.91G   0.02701   0.01616  0.005868        44       416: 100% 7/7 [00:01<00:00,  4.01it/s]\n",
            "               Class     Images     Labels          P          R     mAP@.5 mAP@.5:.95: 100% 1/1 [00:00<00:00, 11.75it/s]\n",
            "                 all          9         17      0.878      0.954      0.939      0.451\n",
            "\n",
            "     Epoch   gpu_mem       box       obj       cls    labels  img_size\n",
            "     54/59     2.91G   0.02602   0.01675  0.007261        40       416: 100% 7/7 [00:01<00:00,  4.86it/s]\n",
            "               Class     Images     Labels          P          R     mAP@.5 mAP@.5:.95: 100% 1/1 [00:00<00:00, 11.23it/s]\n",
            "                 all          9         17      0.878      0.954      0.939      0.463\n",
            "\n",
            "     Epoch   gpu_mem       box       obj       cls    labels  img_size\n",
            "     55/59     2.91G   0.02727   0.01663  0.006738        52       416: 100% 7/7 [00:01<00:00,  4.73it/s]\n",
            "               Class     Images     Labels          P          R     mAP@.5 mAP@.5:.95: 100% 1/1 [00:00<00:00, 11.31it/s]\n",
            "                 all          9         17      0.877      0.954      0.939      0.475\n",
            "\n",
            "     Epoch   gpu_mem       box       obj       cls    labels  img_size\n",
            "     56/59     2.91G   0.02585   0.01558  0.005259        52       416: 100% 7/7 [00:01<00:00,  4.94it/s]\n",
            "               Class     Images     Labels          P          R     mAP@.5 mAP@.5:.95: 100% 1/1 [00:00<00:00, 12.55it/s]\n",
            "                 all          9         17      0.877      0.954      0.939      0.449\n",
            "\n",
            "     Epoch   gpu_mem       box       obj       cls    labels  img_size\n",
            "     57/59     2.91G   0.02517   0.01619  0.004872        38       416: 100% 7/7 [00:01<00:00,  4.93it/s]\n",
            "               Class     Images     Labels          P          R     mAP@.5 mAP@.5:.95: 100% 1/1 [00:00<00:00, 11.22it/s]\n",
            "                 all          9         17      0.877      0.953      0.939      0.471\n",
            "\n",
            "     Epoch   gpu_mem       box       obj       cls    labels  img_size\n",
            "     58/59     2.91G   0.02689   0.01542  0.005576        29       416: 100% 7/7 [00:01<00:00,  4.92it/s]\n",
            "               Class     Images     Labels          P          R     mAP@.5 mAP@.5:.95: 100% 1/1 [00:00<00:00, 11.94it/s]\n",
            "                 all          9         17      0.877      0.954      0.939      0.477\n",
            "\n",
            "     Epoch   gpu_mem       box       obj       cls    labels  img_size\n",
            "     59/59     2.91G   0.02715   0.01686   0.00857        37       416: 100% 7/7 [00:01<00:00,  4.83it/s]\n",
            "               Class     Images     Labels          P          R     mAP@.5 mAP@.5:.95: 100% 1/1 [00:00<00:00, 11.04it/s]\n",
            "                 all          9         17      0.877      0.953      0.939      0.474\n",
            "\n",
            "60 epochs completed in 0.041 hours.\n",
            "Optimizer stripped from runs/train/exp5/weights/last.pt, 42.1MB\n",
            "Optimizer stripped from runs/train/exp5/weights/best.pt, 42.1MB\n",
            "\n",
            "Validating runs/train/exp5/weights/best.pt...\n",
            "Fusing layers... \n",
            "Model summary: 290 layers, 20861016 parameters, 0 gradients, 47.9 GFLOPs\n",
            "               Class     Images     Labels          P          R     mAP@.5 mAP@.5:.95: 100% 1/1 [00:00<00:00,  8.14it/s]\n",
            "                 all          9         17       0.98          1      0.995      0.645\n",
            "              Maryam          9          9      0.979          1      0.995       0.69\n",
            "                 One          9          6       0.99          1      0.995      0.632\n",
            "                 Two          9          2      0.972          1      0.995      0.613\n",
            "Results saved to \u001b[1mruns/train/exp5\u001b[0m\n"
          ]
        }
      ],
      "source": [
        "!python train.py --img 416 --batch 16 --epochs 60 --data /content/yolov5/Face_n_nums-1/data.yaml --weights yolov5m.pt --cache"
      ]
    },
    {
      "cell_type": "code",
      "execution_count": null,
      "metadata": {
        "id": "J9kZuJbzZwwx"
      },
      "outputs": [],
      "source": [
        "%load_ext tensorboard\n",
        "%tensorboard --logdir runs"
      ]
    },
    {
      "cell_type": "code",
      "execution_count": null,
      "metadata": {
        "id": "R12Wb56vbLrA"
      },
      "outputs": [],
      "source": []
    },
    {
      "cell_type": "code",
      "execution_count": 54,
      "metadata": {
        "id": "_pnezuxcbJZG"
      },
      "outputs": [],
      "source": [
        "from IPython.display import display, Javascript\n",
        "from google.colab.output import eval_js\n",
        "from base64 import b64decode\n",
        "\n",
        "def take_photo(filename='photo.jpg', quality=0.8):\n",
        "  js = Javascript('''\n",
        "    async function takePhoto(quality) {\n",
        "      const div = document.createElement('div');\n",
        "      const capture = document.createElement('button');\n",
        "      capture.textContent = 'Capture';\n",
        "      div.appendChild(capture);\n",
        "\n",
        "      const video = document.createElement('video');\n",
        "      video.style.display = 'block';\n",
        "      const stream = await navigator.mediaDevices.getUserMedia({video: true});\n",
        "\n",
        "      document.body.appendChild(div);\n",
        "      div.appendChild(video);\n",
        "      video.srcObject = stream;\n",
        "      await video.play();\n",
        "\n",
        "      // Resize the output to fit the video element.\n",
        "      google.colab.output.setIframeHeight(document.documentElement.scrollHeight, true);\n",
        "\n",
        "      // Wait for Capture to be clicked.\n",
        "      await new Promise((resolve) => capture.onclick = resolve);\n",
        "\n",
        "      const canvas = document.createElement('canvas');\n",
        "      canvas.width = video.videoWidth;\n",
        "      canvas.height = video.videoHeight;\n",
        "      canvas.getContext('2d').drawImage(video, 0, 0);\n",
        "      stream.getVideoTracks()[0].stop();\n",
        "      div.remove();\n",
        "      return canvas.toDataURL('image/jpeg', quality);\n",
        "    }\n",
        "    ''')\n",
        "  display(js)\n",
        "  data = eval_js('takePhoto({})'.format(quality))\n",
        "  binary = b64decode(data.split(',')[1])\n",
        "  with open(filename, 'wb') as f:\n",
        "    f.write(binary)\n",
        "  return filename"
      ]
    },
    {
      "cell_type": "code",
      "execution_count": 67,
      "metadata": {
        "colab": {
          "base_uri": "https://localhost:8080/",
          "height": 52
        },
        "id": "i17Kf6eRbJZH",
        "outputId": "39050bf7-0d4b-430a-991c-e7efb9992833"
      },
      "outputs": [
        {
          "data": {
            "application/javascript": "\n    async function takePhoto(quality) {\n      const div = document.createElement('div');\n      const capture = document.createElement('button');\n      capture.textContent = 'Capture';\n      div.appendChild(capture);\n\n      const video = document.createElement('video');\n      video.style.display = 'block';\n      const stream = await navigator.mediaDevices.getUserMedia({video: true});\n\n      document.body.appendChild(div);\n      div.appendChild(video);\n      video.srcObject = stream;\n      await video.play();\n\n      // Resize the output to fit the video element.\n      google.colab.output.setIframeHeight(document.documentElement.scrollHeight, true);\n\n      // Wait for Capture to be clicked.\n      await new Promise((resolve) => capture.onclick = resolve);\n\n      const canvas = document.createElement('canvas');\n      canvas.width = video.videoWidth;\n      canvas.height = video.videoHeight;\n      canvas.getContext('2d').drawImage(video, 0, 0);\n      stream.getVideoTracks()[0].stop();\n      div.remove();\n      return canvas.toDataURL('image/jpeg', quality);\n    }\n    ",
            "text/plain": [
              "<IPython.core.display.Javascript object>"
            ]
          },
          "metadata": {},
          "output_type": "display_data"
        },
        {
          "name": "stdout",
          "output_type": "stream",
          "text": [
            "Saved to photo.jpg\n",
            "name 'increment_path' is not defined\n"
          ]
        }
      ],
      "source": [
        "from IPython.display import Image\n",
        "try:\n",
        "  filename = take_photo()\n",
        "  print('Saved to {}'.format(filename))\n",
        "\n",
        "  # Show the image which was just taken.\n",
        "  display(Image(filename))\n",
        "except Exception as err:\n",
        "  # Errors will be thrown if the user does not have a webcam or if they do not\n",
        "  # grant the page permission to access it.\n",
        "  print(str(err))"
      ]
    },
    {
      "cell_type": "code",
      "execution_count": null,
      "metadata": {
        "id": "XgTCkjEBaXrP"
      },
      "outputs": [],
      "source": [
        "!python detect.py --source photo.jpg "
      ]
    },
    {
      "cell_type": "code",
      "execution_count": 66,
      "metadata": {
        "colab": {
          "base_uri": "https://localhost:8080/"
        },
        "id": "nJgGrlOYcwwB",
        "outputId": "6130395e-bd46-4664-f422-34e7e8f47d47"
      },
      "outputs": [
        {
          "name": "stdout",
          "output_type": "stream",
          "text": [
            "\u001b[34m\u001b[1mdetect: \u001b[0mweights=yolov5s.pt, source=0, data=data/coco128.yaml, imgsz=[640, 640], conf_thres=0.25, iou_thres=0.45, max_det=1000, device=, view_img=False, save_txt=False, save_conf=False, save_crop=False, nosave=False, classes=None, agnostic_nms=False, augment=False, visualize=False, update=False, project=runs/detect, name=exp, exist_ok=False, line_thickness=3, hide_labels=False, hide_conf=False, half=False, dnn=False\n",
            "YOLOv5 🚀 v6.1-376-g48a8531 Python-3.7.13 torch-1.12.0+cu113 CUDA:0 (Tesla T4, 15110MiB)\n",
            "\n",
            "Fusing layers... \n",
            "YOLOv5s summary: 213 layers, 7225885 parameters, 0 gradients\n",
            "WARNING: Environment does not support cv2.imshow() or PIL Image.show() image displays\n",
            "cv2.imshow() is disabled in Docker environments\n",
            "Traceback (most recent call last):\n",
            "  File \"detect.py\", line 257, in <module>\n",
            "    main(opt)\n",
            "  File \"detect.py\", line 252, in main\n",
            "    run(**vars(opt))\n",
            "  File \"/usr/local/lib/python3.7/dist-packages/torch/autograd/grad_mode.py\", line 27, in decorate_context\n",
            "    return func(*args, **kwargs)\n",
            "  File \"detect.py\", line 101, in run\n",
            "    dataset = LoadStreams(source, img_size=imgsz, stride=stride, auto=pt)\n",
            "  File \"/content/yolov5/utils/dataloaders.py\", line 336, in __init__\n",
            "    assert not is_colab(), '--source 0 webcam unsupported on Colab. Rerun command in a local environment.'\n",
            "AssertionError: --source 0 webcam unsupported on Colab. Rerun command in a local environment.\n"
          ]
        }
      ],
      "source": [
        "!python detect.py --source 0"
      ]
    },
    {
      "cell_type": "code",
      "execution_count": null,
      "metadata": {
        "id": "o-zonYa2fV1F"
      },
      "outputs": [],
      "source": []
    }
  ],
  "metadata": {
    "accelerator": "GPU",
    "colab": {
      "collapsed_sections": [],
      "name": "Yolov5_Object_detection.ipynb",
      "provenance": []
    },
    "gpuClass": "standard",
    "kernelspec": {
      "display_name": "Python 3.7.9 64-bit",
      "language": "python",
      "name": "python3"
    },
    "language_info": {
      "name": "python",
      "version": "3.7.9"
    },
    "vscode": {
      "interpreter": {
        "hash": "dee462b5ac3ce9c6183fc31797972f06951caa80a5376deb2eb8c081c74e9822"
      }
    }
  },
  "nbformat": 4,
  "nbformat_minor": 0
}
