{
  "cells": [
    {
      "cell_type": "code",
      "execution_count": 256,
      "metadata": {
        "colab": {
          "base_uri": "https://localhost:8080/"
        },
        "id": "RzZc7Yx55vNy",
        "outputId": "4ca1ea68-41ab-4fed-9380-5e07cab7a2f3"
      },
      "outputs": [
        {
          "name": "stdout",
          "output_type": "stream",
          "text": [
            "2.15.0\n"
          ]
        }
      ],
      "source": [
        "import tensorflow as tf\n",
        "\n",
        "print(tf.__version__)"
      ]
    },
    {
      "cell_type": "code",
      "execution_count": 257,
      "metadata": {
        "colab": {
          "base_uri": "https://localhost:8080/"
        },
        "id": "GOmYUJo0DcAw",
        "outputId": "7d7e38c7-9c20-410e-8189-af585e0d7100"
      },
      "outputs": [
        {
          "name": "stdout",
          "output_type": "stream",
          "text": [
            "/device:GPU:0\n"
          ]
        }
      ],
      "source": [
        "print(tf.test.gpu_device_name())"
      ]
    },
    {
      "cell_type": "code",
      "execution_count": 258,
      "metadata": {
        "colab": {
          "base_uri": "https://localhost:8080/"
        },
        "id": "6HdKU7o8EuTu",
        "outputId": "038b3b11-3adf-4e77-a9aa-7db3e755a8b2"
      },
      "outputs": [
        {
          "data": {
            "text/plain": [
              "<tf.Tensor: shape=(), dtype=int32, numpy=5>"
            ]
          },
          "execution_count": 258,
          "metadata": {},
          "output_type": "execute_result"
        }
      ],
      "source": [
        "a = tf.constant(5)\n",
        "a\n"
      ]
    },
    {
      "cell_type": "code",
      "execution_count": 259,
      "metadata": {
        "colab": {
          "base_uri": "https://localhost:8080/"
        },
        "id": "8sIYTruKGJcm",
        "outputId": "28ba9d21-4a44-48cb-e7a4-ae8528d778e7"
      },
      "outputs": [
        {
          "data": {
            "text/plain": [
              "<tf.Tensor: shape=(2, 2, 3), dtype=int32, numpy=\n",
              "array([[[1, 2, 3],\n",
              "        [4, 5, 6]],\n",
              "\n",
              "       [[1, 2, 3],\n",
              "        [4, 5, 6]]], dtype=int32)>"
            ]
          },
          "execution_count": 259,
          "metadata": {},
          "output_type": "execute_result"
        }
      ],
      "source": [
        "c=tf.constant([[[1,2,3],[4,5,6]],[[1,2,3],[4,5,6]]])\n",
        "c"
      ]
    },
    {
      "cell_type": "code",
      "execution_count": 260,
      "metadata": {
        "colab": {
          "base_uri": "https://localhost:8080/"
        },
        "id": "9eWpfJLOGDQC",
        "outputId": "18c78b60-12c2-4bca-d4df-6660b89092e5"
      },
      "outputs": [
        {
          "data": {
            "text/plain": [
              "<tf.Tensor: shape=(4,), dtype=int32, numpy=array([1, 2, 3, 4], dtype=int32)>"
            ]
          },
          "execution_count": 260,
          "metadata": {},
          "output_type": "execute_result"
        }
      ],
      "source": [
        "b=tf.constant([1,2,3,4])\n",
        "b"
      ]
    },
    {
      "cell_type": "markdown",
      "metadata": {
        "id": "Lr_fqThjXJLc"
      },
      "source": [
        "# different opperation"
      ]
    },
    {
      "cell_type": "code",
      "execution_count": 261,
      "metadata": {
        "id": "yd0OdbOSXBGn"
      },
      "outputs": [],
      "source": [
        "a = tf.constant([1,2])\n",
        "b = tf.constant([3,4])"
      ]
    },
    {
      "cell_type": "code",
      "execution_count": 262,
      "metadata": {
        "colab": {
          "base_uri": "https://localhost:8080/"
        },
        "id": "fF2T5yo8Xdst",
        "outputId": "f30843f1-fe1a-4717-87ab-0aee55506ba0"
      },
      "outputs": [
        {
          "data": {
            "text/plain": [
              "array([4, 6], dtype=int32)"
            ]
          },
          "execution_count": 262,
          "metadata": {},
          "output_type": "execute_result"
        }
      ],
      "source": [
        "# sum\n",
        "c=tf.add(a,b)\n",
        "c.numpy()"
      ]
    },
    {
      "cell_type": "code",
      "execution_count": 263,
      "metadata": {
        "colab": {
          "base_uri": "https://localhost:8080/"
        },
        "id": "sq3Fc6gJXjFM",
        "outputId": "93fc3132-d3b0-498b-9cc7-fea33c05d8fe"
      },
      "outputs": [
        {
          "data": {
            "text/plain": [
              "<tf.Tensor: shape=(2,), dtype=int32, numpy=array([-2, -2], dtype=int32)>"
            ]
          },
          "execution_count": 263,
          "metadata": {},
          "output_type": "execute_result"
        }
      ],
      "source": [
        "# subtract\n",
        "d = tf.subtract(a,b)\n",
        "d"
      ]
    },
    {
      "cell_type": "code",
      "execution_count": 264,
      "metadata": {
        "id": "HUy7m8EdX6N3"
      },
      "outputs": [],
      "source": [
        "# multiplication\n",
        "a_1 = tf.constant([[1,2],[3,4]])\n",
        "b_1 = tf.constant([[0,1],[2,3]])"
      ]
    },
    {
      "cell_type": "code",
      "execution_count": 265,
      "metadata": {
        "colab": {
          "base_uri": "https://localhost:8080/"
        },
        "id": "HQsi7efBYykH",
        "outputId": "6b34d0fe-2a1c-46cb-df78-4dc49c94336a"
      },
      "outputs": [
        {
          "data": {
            "text/plain": [
              "<tf.Tensor: shape=(2, 2), dtype=int32, numpy=\n",
              "array([[ 0,  2],\n",
              "       [ 6, 12]], dtype=int32)>"
            ]
          },
          "execution_count": 265,
          "metadata": {},
          "output_type": "execute_result"
        }
      ],
      "source": [
        "ew= tf.multiply(a_1,b_1)\n",
        "ew"
      ]
    },
    {
      "cell_type": "code",
      "execution_count": 266,
      "metadata": {
        "colab": {
          "base_uri": "https://localhost:8080/"
        },
        "id": "EQrMzfPlZKpv",
        "outputId": "420722dd-0494-44e5-93ef-7d881986ef32"
      },
      "outputs": [
        {
          "data": {
            "text/plain": [
              "<tf.Tensor: shape=(2, 2), dtype=int32, numpy=\n",
              "array([[ 4,  7],\n",
              "       [ 8, 15]], dtype=int32)>"
            ]
          },
          "execution_count": 266,
          "metadata": {},
          "output_type": "execute_result"
        }
      ],
      "source": [
        "mm = tf.matmul(a_1,b_1)\n",
        "mm"
      ]
    },
    {
      "cell_type": "code",
      "execution_count": 267,
      "metadata": {
        "id": "xdgLZ1BsZTXm"
      },
      "outputs": [],
      "source": [
        "# division\n",
        "a = tf.constant([1,2]) #1,2\n",
        "b = tf.constant([3,4]) #3,4\n"
      ]
    },
    {
      "cell_type": "code",
      "execution_count": 268,
      "metadata": {
        "colab": {
          "base_uri": "https://localhost:8080/"
        },
        "id": "lT3yT8MxZuG8",
        "outputId": "0489d816-cbdd-42cc-c8da-9e3a68b32402"
      },
      "outputs": [
        {
          "data": {
            "text/plain": [
              "<tf.Tensor: shape=(2,), dtype=float64, numpy=array([0.33333333, 0.5       ])>"
            ]
          },
          "execution_count": 268,
          "metadata": {},
          "output_type": "execute_result"
        }
      ],
      "source": [
        "d = tf.divide(a,b)\n",
        "d"
      ]
    },
    {
      "cell_type": "code",
      "execution_count": 269,
      "metadata": {
        "colab": {
          "base_uri": "https://localhost:8080/"
        },
        "id": "3N3rq3dhDimB",
        "outputId": "0889361c-9cbe-46f9-e2ae-a34e61110125"
      },
      "outputs": [
        {
          "data": {
            "text/plain": [
              "<tf.Tensor: shape=(3,), dtype=int32, numpy=array([ 4,  8, 12], dtype=int32)>"
            ]
          },
          "execution_count": 269,
          "metadata": {},
          "output_type": "execute_result"
        }
      ],
      "source": [
        "# Broadcasting\n",
        "\n",
        "a = tf.constant([1,2,3])\n",
        "b = tf.constant(4) # => a * [4,4,4]\n",
        "\n",
        "c = a * b # => + - *\n",
        "\n",
        "c\n"
      ]
    },
    {
      "cell_type": "markdown",
      "metadata": {
        "id": "Z_OsIINREsZ1"
      },
      "source": [
        "## Reshape"
      ]
    },
    {
      "cell_type": "code",
      "execution_count": 270,
      "metadata": {
        "colab": {
          "base_uri": "https://localhost:8080/"
        },
        "id": "YDaREdZiilUb",
        "outputId": "6969993d-266c-4365-8636-76b5e3b0920a"
      },
      "outputs": [
        {
          "data": {
            "text/plain": [
              "TensorShape([6])"
            ]
          },
          "execution_count": 270,
          "metadata": {},
          "output_type": "execute_result"
        }
      ],
      "source": [
        "# Reshape\n",
        "a = tf.constant([1,2,3,4,5,6])\n",
        "a.shape\n",
        "a\n"
      ]
    },
    {
      "cell_type": "code",
      "execution_count": 271,
      "metadata": {
        "colab": {
          "base_uri": "https://localhost:8080/"
        },
        "id": "fSd_PtfjMTnF",
        "outputId": "7c6959e7-b04c-4eaf-e130-aaea7e270f3a"
      },
      "outputs": [
        {
          "data": {
            "text/plain": [
              "TensorShape([3, 2, 1])"
            ]
          },
          "execution_count": 271,
          "metadata": {},
          "output_type": "execute_result"
        }
      ],
      "source": [
        "b = tf.reshape(a, shape=(3,2,1))\n",
        "b.shape"
      ]
    },
    {
      "cell_type": "code",
      "execution_count": 272,
      "metadata": {
        "colab": {
          "base_uri": "https://localhost:8080/"
        },
        "id": "F45Kcb2xMk7t",
        "outputId": "875c7fb2-490d-4532-dc9b-d44ac32b23a5"
      },
      "outputs": [
        {
          "data": {
            "text/plain": [
              "<tf.Tensor: shape=(3, 2, 1), dtype=int32, numpy=\n",
              "array([[[1],\n",
              "        [2]],\n",
              "\n",
              "       [[3],\n",
              "        [4]],\n",
              "\n",
              "       [[5],\n",
              "        [6]]], dtype=int32)>"
            ]
          },
          "execution_count": 272,
          "metadata": {},
          "output_type": "execute_result"
        }
      ],
      "source": [
        "b"
      ]
    },
    {
      "cell_type": "code",
      "execution_count": 273,
      "metadata": {
        "colab": {
          "base_uri": "https://localhost:8080/"
        },
        "id": "D4zujJQjM5PY",
        "outputId": "65c5e2dc-c0d8-4a3a-a65a-8d98e7a1f356"
      },
      "outputs": [
        {
          "data": {
            "text/plain": [
              "TensorShape([6])"
            ]
          },
          "execution_count": 273,
          "metadata": {},
          "output_type": "execute_result"
        }
      ],
      "source": [
        "#add dimension\n",
        "a = tf.constant([1,2,3,4,5,6])\n",
        "a.shape"
      ]
    },
    {
      "cell_type": "code",
      "execution_count": 274,
      "metadata": {
        "colab": {
          "base_uri": "https://localhost:8080/"
        },
        "id": "930oxtD48y22",
        "outputId": "909b7cd0-51fb-47bc-8fb8-8911fff9c666"
      },
      "outputs": [
        {
          "data": {
            "text/plain": [
              "TensorShape([6, 1])"
            ]
          },
          "execution_count": 274,
          "metadata": {},
          "output_type": "execute_result"
        }
      ],
      "source": [
        "b = tf.expand_dims(a,-1)\n",
        "b.shape"
      ]
    },
    {
      "cell_type": "code",
      "execution_count": 275,
      "metadata": {
        "colab": {
          "base_uri": "https://localhost:8080/"
        },
        "id": "cG0L92okAi_T",
        "outputId": "785a8b75-23fe-438d-c145-13964bdbe086"
      },
      "outputs": [
        {
          "data": {
            "text/plain": [
              "<tf.Tensor: shape=(6,), dtype=int32, numpy=array([1, 2, 3, 4, 5, 6], dtype=int32)>"
            ]
          },
          "execution_count": 275,
          "metadata": {},
          "output_type": "execute_result"
        }
      ],
      "source": [
        "a"
      ]
    },
    {
      "cell_type": "code",
      "execution_count": 276,
      "metadata": {
        "colab": {
          "base_uri": "https://localhost:8080/"
        },
        "id": "8PeSTPWnAjZX",
        "outputId": "f854e4a9-d371-4800-e123-4e6e2a896494"
      },
      "outputs": [
        {
          "data": {
            "text/plain": [
              "<tf.Tensor: shape=(6, 1), dtype=int32, numpy=\n",
              "array([[1],\n",
              "       [2],\n",
              "       [3],\n",
              "       [4],\n",
              "       [5],\n",
              "       [6]], dtype=int32)>"
            ]
          },
          "execution_count": 276,
          "metadata": {},
          "output_type": "execute_result"
        }
      ],
      "source": [
        "b"
      ]
    },
    {
      "cell_type": "code",
      "execution_count": 277,
      "metadata": {
        "colab": {
          "base_uri": "https://localhost:8080/"
        },
        "id": "oHasQxDQAsxi",
        "outputId": "0e4a819b-9e0a-4fe4-a594-1bae0e91af2b"
      },
      "outputs": [
        {
          "data": {
            "text/plain": [
              "<tf.Tensor: shape=(2, 2), dtype=int32, numpy=\n",
              "array([[1, 2],\n",
              "       [3, 4]], dtype=int32)>"
            ]
          },
          "execution_count": 277,
          "metadata": {},
          "output_type": "execute_result"
        }
      ],
      "source": [
        "a = tf.constant([[1,2],[3,4]])\n",
        "a"
      ]
    },
    {
      "cell_type": "code",
      "execution_count": 278,
      "metadata": {
        "colab": {
          "base_uri": "https://localhost:8080/"
        },
        "id": "Fv0sPyvTAjyn",
        "outputId": "4517e75d-ac62-4d01-c0c2-f6b3164aa806"
      },
      "outputs": [
        {
          "data": {
            "text/plain": [
              "<tf.Tensor: shape=(2, 2), dtype=int32, numpy=\n",
              "array([[ 1,  4],\n",
              "       [ 9, 16]], dtype=int32)>"
            ]
          },
          "execution_count": 278,
          "metadata": {},
          "output_type": "execute_result"
        }
      ],
      "source": [
        "b = tf.square(a)\n",
        "b"
      ]
    },
    {
      "cell_type": "code",
      "execution_count": 279,
      "metadata": {
        "colab": {
          "base_uri": "https://localhost:8080/"
        },
        "id": "EGUuTiWnA_wE",
        "outputId": "86090d1f-c7a8-44f6-f58d-471ee36fcd0e"
      },
      "outputs": [
        {
          "data": {
            "text/plain": [
              "<tf.Tensor: shape=(2, 2), dtype=float32, numpy=\n",
              "array([[1.       , 1.4142135],\n",
              "       [1.7320508, 2.       ]], dtype=float32)>"
            ]
          },
          "execution_count": 279,
          "metadata": {},
          "output_type": "execute_result"
        }
      ],
      "source": [
        "c = tf.sqrt(tf.cast(a , dtype=float))\n",
        "c"
      ]
    },
    {
      "cell_type": "markdown",
      "metadata": {
        "id": "YxKH6AAuDq52"
      },
      "source": [
        "## Min , Max , Mean ,STD"
      ]
    },
    {
      "cell_type": "code",
      "execution_count": 280,
      "metadata": {
        "colab": {
          "base_uri": "https://localhost:8080/"
        },
        "id": "ggJO_6UKDxMt",
        "outputId": "dd5a993f-170a-4d84-e96e-819ea67f4bf1"
      },
      "outputs": [
        {
          "data": {
            "text/plain": [
              "<tf.Tensor: shape=(2, 2), dtype=float32, numpy=\n",
              "array([[1., 2.],\n",
              "       [3., 4.]], dtype=float32)>"
            ]
          },
          "execution_count": 280,
          "metadata": {},
          "output_type": "execute_result"
        }
      ],
      "source": [
        "a = tf.constant([[1,2],[3,4]], dtype = tf.float32)\n",
        "a"
      ]
    },
    {
      "cell_type": "code",
      "execution_count": 281,
      "metadata": {
        "colab": {
          "base_uri": "https://localhost:8080/"
        },
        "id": "SnkTy2yKD1nu",
        "outputId": "fa20a3ca-3d74-4893-baa8-468a09788cae"
      },
      "outputs": [
        {
          "data": {
            "text/plain": [
              "array([1., 3.], dtype=float32)"
            ]
          },
          "execution_count": 281,
          "metadata": {},
          "output_type": "execute_result"
        }
      ],
      "source": [
        "min = tf.reduce_min(a,axis=1)\n",
        "min.numpy()"
      ]
    },
    {
      "cell_type": "code",
      "execution_count": 282,
      "metadata": {
        "colab": {
          "base_uri": "https://localhost:8080/"
        },
        "id": "HXT68MTUu3Su",
        "outputId": "5f677054-7a78-4c80-f35a-e6f71a258d9b"
      },
      "outputs": [
        {
          "data": {
            "text/plain": [
              "array([2., 4.], dtype=float32)"
            ]
          },
          "execution_count": 282,
          "metadata": {},
          "output_type": "execute_result"
        }
      ],
      "source": [
        "max = tf.reduce_max(a,axis=1)\n",
        "max.numpy()"
      ]
    },
    {
      "cell_type": "code",
      "execution_count": 283,
      "metadata": {
        "colab": {
          "base_uri": "https://localhost:8080/"
        },
        "id": "OKVwB4TAxuH9",
        "outputId": "12d121f0-5a80-4f0c-e39d-415a5c9d71b0"
      },
      "outputs": [
        {
          "data": {
            "text/plain": [
              "2.5"
            ]
          },
          "execution_count": 283,
          "metadata": {},
          "output_type": "execute_result"
        }
      ],
      "source": [
        "# numpy\n",
        "import numpy as np\n",
        "a = np.array([[1,2],[3,4]])\n",
        "a.mean()"
      ]
    },
    {
      "cell_type": "code",
      "execution_count": 284,
      "metadata": {
        "colab": {
          "base_uri": "https://localhost:8080/"
        },
        "id": "clNNz5kTxcq3",
        "outputId": "19d127c4-25a8-4c25-db35-5eaaf3e1473f"
      },
      "outputs": [
        {
          "data": {
            "text/plain": [
              "2"
            ]
          },
          "execution_count": 284,
          "metadata": {},
          "output_type": "execute_result"
        }
      ],
      "source": [
        "avg = tf.reduce_mean(a)\n",
        "avg.numpy()"
      ]
    },
    {
      "cell_type": "code",
      "execution_count": 285,
      "metadata": {
        "colab": {
          "base_uri": "https://localhost:8080/"
        },
        "id": "v_6IOhVaxkwe",
        "outputId": "c8d4c032-896d-480c-faf9-89dda6137670"
      },
      "outputs": [
        {
          "data": {
            "text/plain": [
              "10"
            ]
          },
          "execution_count": 285,
          "metadata": {},
          "output_type": "execute_result"
        }
      ],
      "source": [
        "sum = tf.reduce_sum(a)\n",
        "sum.numpy()"
      ]
    },
    {
      "cell_type": "code",
      "execution_count": 286,
      "metadata": {
        "colab": {
          "base_uri": "https://localhost:8080/"
        },
        "id": "vPKzaX2D0Vat",
        "outputId": "a85bf106-63b9-47bc-e9d1-ae1395d4684c"
      },
      "outputs": [
        {
          "data": {
            "text/plain": [
              "1.1180339"
            ]
          },
          "execution_count": 286,
          "metadata": {},
          "output_type": "execute_result"
        }
      ],
      "source": [
        "E = tf.cast(a, dtype=tf.float32)\n",
        "std = tf.math.reduce_std(E)\n",
        "std.numpy()"
      ]
    }
  ],
  "metadata": {
    "accelerator": "GPU",
    "colab": {
      "gpuType": "T4",
      "provenance": []
    },
    "kernelspec": {
      "display_name": "Python 3",
      "name": "python3"
    },
    "language_info": {
      "name": "python"
    }
  },
  "nbformat": 4,
  "nbformat_minor": 0
}
